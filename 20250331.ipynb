{
  "nbformat": 4,
  "nbformat_minor": 0,
  "metadata": {
    "colab": {
      "provenance": [],
      "authorship_tag": "ABX9TyMCAmNUxGIKqrGAlL3kr2mz",
      "include_colab_link": true
    },
    "kernelspec": {
      "name": "python3",
      "display_name": "Python 3"
    },
    "language_info": {
      "name": "python"
    }
  },
  "cells": [
    {
      "cell_type": "markdown",
      "metadata": {
        "id": "view-in-github",
        "colab_type": "text"
      },
      "source": [
        "<a href=\"https://colab.research.google.com/github/chlgudwnss/ABCD-A/blob/20250331/20250331.ipynb\" target=\"_parent\"><img src=\"https://colab.research.google.com/assets/colab-badge.svg\" alt=\"Open In Colab\"/></a>"
      ]
    },
    {
      "cell_type": "code",
      "execution_count": 1,
      "metadata": {
        "colab": {
          "base_uri": "https://localhost:8080/"
        },
        "id": "bUrPfMMjOOQ0",
        "outputId": "8fd00705-e7ab-45a5-b9e6-5f909d960182"
      },
      "outputs": [
        {
          "output_type": "stream",
          "name": "stdout",
          "text": [
            "첫 번째 벡터의 x 성분을 입력하세요: 7\n",
            "첫 번째 벡터의 y 성분을 입력하세요: 5\n",
            "두 번째 벡터의 x 성분을 입력하세요: 3\n",
            "두 번째 벡터의 y 성분을 입력하세요: 2\n",
            "\n",
            "벡터 1: 7.0 i + 5.0 j\n",
            "벡터 2: 3.0 i + 2.0 j\n",
            "\n",
            "벡터의 합: 10.0 i + 7.0 j\n",
            "벡터의 내적: 31.0\n",
            "벡터의 외적: -1.0\n"
          ]
        }
      ],
      "source": [
        "x1 = float(input(\"첫 번째 벡터의 x 성분을 입력하세요: \"))\n",
        "y1 = float(input(\"첫 번째 벡터의 y 성분을 입력하세요: \"))\n",
        "\n",
        "x2 = float(input(\"두 번째 벡터의 x 성분을 입력하세요: \"))\n",
        "y2 = float(input(\"두 번째 벡터의 y 성분을 입력하세요: \"))\n",
        "\n",
        "sum_x = x1 + x2\n",
        "sum_y = y1 + y2\n",
        "\n",
        "dot_product = x1 * x2 + y1 * y2\n",
        "\n",
        "cross_product = x1 * y2 - y1 * x2\n",
        "\n",
        "print(\"\\n벡터 1:\", x1, \"i +\", y1, \"j\")\n",
        "print(\"벡터 2:\", x2, \"i +\", y2, \"j\")\n",
        "\n",
        "print(\"\\n벡터의 합:\", sum_x, \"i +\", sum_y, \"j\")\n",
        "print(\"벡터의 내적:\", dot_product)\n",
        "print(\"벡터의 외적:\", cross_product)"
      ]
    },
    {
      "cell_type": "code",
      "source": [
        "x1 = float(input(\"첫 번째 벡터의 x 성분을 입력하세요: \"))\n",
        "y1 = float(input(\"첫 번째 벡터의 y 성분을 입력하세요: \"))\n",
        "z1 = float(input(\"첫 번째 벡터의 z4 성분을 입력하세요: \"))\n",
        "\n",
        "x2 = float(input(\"두 번째 벡터의 x2 성분을 입력하세요: \"))\n",
        "y2 = float(input(\"두 번째 벡터의 y2 성분을 입력하세요: \"))\n",
        "z2 = float(input(\"두 번째 벡터의 z2 성분을 입력하세요: \"))\n",
        "\n",
        "sum_x = x1 + x2\n",
        "sum_y = y1 + y2\n",
        "sum_z = z1 + z2\n",
        "\n",
        "dot_product = x1 * x2 + y1 * y2 + z1 * z2\n",
        "\n",
        "cross_product_x = y1 * z2 - z1 * y2\n",
        "cross_product_y = z1 * x2 - x1 * z2\n",
        "cross_product_z = x1 * y2 - y1 * x2\n",
        "\n",
        "print(\"\\n벡터 1:\", x1, \"i +\", y1, \"j +\", z1, \"k\")\n",
        "print(\"벡터 2:\", x2, \"i +\", y2, \"j +\", z2, \"k\")\n",
        "\n",
        "print(\"\\n벡터의 합:\", sum_x, \"i +\", sum_y, \"j +\", sum_z, \"k\")\n",
        "print(\"벡터의 내적:\", dot_product)\n",
        "print(\"벡터의 외적:\", cross_product_x, \"i +\", cross_product_y, \"j +\", cross_product_z, \"k\")"
      ],
      "metadata": {
        "colab": {
          "base_uri": "https://localhost:8080/"
        },
        "id": "sKptxupWOfmI",
        "outputId": "5d1fd940-50f0-471b-9b54-316180ffa868"
      },
      "execution_count": 2,
      "outputs": [
        {
          "output_type": "stream",
          "name": "stdout",
          "text": [
            "첫 번째 벡터의 x 성분을 입력하세요: 5\n",
            "첫 번째 벡터의 y 성분을 입력하세요: 4\n",
            "첫 번째 벡터의 z4 성분을 입력하세요: 3\n",
            "두 번째 벡터의 x2 성분을 입력하세요: 2\n",
            "두 번째 벡터의 y2 성분을 입력하세요: 1\n",
            "두 번째 벡터의 z2 성분을 입력하세요: 8\n",
            "\n",
            "벡터 1: 5.0 i + 4.0 j + 3.0 k\n",
            "벡터 2: 2.0 i + 1.0 j + 8.0 k\n",
            "\n",
            "벡터의 합: 7.0 i + 5.0 j + 11.0 k\n",
            "벡터의 내적: 38.0\n",
            "벡터의 외적: 29.0 i + -34.0 j + -3.0 k\n"
          ]
        }
      ]
    }
  ]
}