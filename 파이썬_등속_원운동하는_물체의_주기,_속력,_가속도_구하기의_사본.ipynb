{
  "nbformat": 4,
  "nbformat_minor": 0,
  "metadata": {
    "colab": {
      "provenance": [],
      "authorship_tag": "ABX9TyP5Pq740db4hC8f+jRkSCJQ",
      "include_colab_link": true
    },
    "kernelspec": {
      "name": "python3",
      "display_name": "Python 3"
    },
    "language_info": {
      "name": "python"
    }
  },
  "cells": [
    {
      "cell_type": "markdown",
      "metadata": {
        "id": "view-in-github",
        "colab_type": "text"
      },
      "source": [
        "<a href=\"https://colab.research.google.com/github/chlgudwnss/ABCD-A/blob/20250525/%ED%8C%8C%EC%9D%B4%EC%8D%AC_%EB%93%B1%EC%86%8D_%EC%9B%90%EC%9A%B4%EB%8F%99%ED%95%98%EB%8A%94_%EB%AC%BC%EC%B2%B4%EC%9D%98_%EC%A3%BC%EA%B8%B0%2C_%EC%86%8D%EB%A0%A5%2C_%EA%B0%80%EC%86%8D%EB%8F%84_%EA%B5%AC%ED%95%98%EA%B8%B0%EC%9D%98_%EC%82%AC%EB%B3%B8.ipynb\" target=\"_parent\"><img src=\"https://colab.research.google.com/assets/colab-badge.svg\" alt=\"Open In Colab\"/></a>"
      ]
    },
    {
      "cell_type": "code",
      "execution_count": null,
      "metadata": {
        "id": "-BolTBp8YSi3",
        "outputId": "b063677f-623b-4a63-ef3b-f4abd81ca944",
        "colab": {
          "base_uri": "https://localhost:8080/"
        }
      },
      "outputs": [
        {
          "output_type": "stream",
          "name": "stdout",
          "text": [
            "0.50s\n",
            "7.54m/s\n",
            "94.75m/s²\n"
          ]
        }
      ],
      "source": [
        "import math\n",
        "\n",
        "m = 0.15\n",
        "r = 0.60\n",
        "f = 2.0\n",
        "pi = math.pi\n",
        "T = 1 / f\n",
        "\n",
        "v = 2 * pi * r / T\n",
        "ac = v * v / r\n",
        "\n",
        "print(f\"{T:.2f}s\")\n",
        "print(f\"{v:.2f}m/s\")\n",
        "print(f\"{ac:.2f}m/s²\")"
      ]
    },
    {
      "cell_type": "code",
      "source": [
        "g = 9.80\n",
        "\n",
        "ac = g\n",
        "\n",
        "print(f\"{ac:.2f} m/s²\")"
      ],
      "metadata": {
        "id": "vp_jbGI2YWYB",
        "outputId": "a142bcb3-3886-41ec-fc02-22a3b5783300",
        "colab": {
          "base_uri": "https://localhost:8080/"
        }
      },
      "execution_count": null,
      "outputs": [
        {
          "output_type": "stream",
          "name": "stdout",
          "text": [
            "9.80 m/s²\n"
          ]
        }
      ]
    },
    {
      "cell_type": "code",
      "source": [
        "v0 = 0\n",
        "v = 32\n",
        "t = 10.5\n",
        "r = 500\n",
        "vr = 35\n",
        "\n",
        "at = (v - v0) / t\n",
        "\n",
        "ac = (vr ** 2) / r\n",
        "\n",
        "print(f\"{at:.2f} m/s²\")\n",
        "print(f\"{ac:.2f} m/s²\")"
      ],
      "metadata": {
        "id": "rRK9K-VKYWnd",
        "outputId": "66f00b69-0f9f-4240-c356-5e2c5366d179",
        "colab": {
          "base_uri": "https://localhost:8080/"
        }
      },
      "execution_count": null,
      "outputs": [
        {
          "output_type": "stream",
          "name": "stdout",
          "text": [
            "3.05 m/s²\n",
            "2.45 m/s²\n"
          ]
        }
      ]
    }
  ]
}