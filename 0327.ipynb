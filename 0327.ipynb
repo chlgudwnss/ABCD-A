{
  "nbformat": 4,
  "nbformat_minor": 0,
  "metadata": {
    "colab": {
      "provenance": [],
      "authorship_tag": "ABX9TyPeWrLxx/S31bgtv25ok41m",
      "include_colab_link": true
    },
    "kernelspec": {
      "name": "python3",
      "display_name": "Python 3"
    },
    "language_info": {
      "name": "python"
    }
  },
  "cells": [
    {
      "cell_type": "markdown",
      "metadata": {
        "id": "view-in-github",
        "colab_type": "text"
      },
      "source": [
        "<a href=\"https://colab.research.google.com/github/chlgudwnss/ABCD-A/blob/20250327/0327.ipynb\" target=\"_parent\"><img src=\"https://colab.research.google.com/assets/colab-badge.svg\" alt=\"Open In Colab\"/></a>"
      ]
    },
    {
      "cell_type": "code",
      "execution_count": 1,
      "metadata": {
        "colab": {
          "base_uri": "https://localhost:8080/"
        },
        "id": "9dXsq-wwJJoX",
        "outputId": "829681e9-0fb1-4ead-a633-ce6013e1e946"
      },
      "outputs": [
        {
          "output_type": "stream",
          "name": "stdout",
          "text": [
            "500000 원\n"
          ]
        }
      ],
      "source": [
        "삼성전자 = 50000\n",
        "보유 = 10\n",
        "총평가금액 = 삼성전자 * 보유\n",
        "print(총평가금액, \"원\")"
      ]
    },
    {
      "cell_type": "code",
      "source": [
        "시가총액 = '293조'\n",
        "현재가 = '50,000원'\n",
        "PER = 15.79\n",
        "\n",
        "print(\"시가총액:\",시가총액)\n",
        "print(\"현재가:\", 시가총액)\n",
        "print(\"PER:\", PER)"
      ],
      "metadata": {
        "colab": {
          "base_uri": "https://localhost:8080/"
        },
        "id": "-dVNQCl7JiMQ",
        "outputId": "d687d643-a28b-46c9-e3a6-e24953e4dbc4"
      },
      "execution_count": 2,
      "outputs": [
        {
          "output_type": "stream",
          "name": "stdout",
          "text": [
            "시가총액: 293조\n",
            "현재가: 293조\n",
            "PER: 15.79\n"
          ]
        }
      ]
    },
    {
      "cell_type": "code",
      "source": [
        "s = 'hello!'\n",
        "t = 'python'\n",
        "print(s, t, sep = ' ')"
      ],
      "metadata": {
        "colab": {
          "base_uri": "https://localhost:8080/"
        },
        "id": "IQzczheWJk2t",
        "outputId": "fbc1a2b8-edef-4e4a-bc2e-9866b9426596"
      },
      "execution_count": 3,
      "outputs": [
        {
          "output_type": "stream",
          "name": "stdout",
          "text": [
            "hello! python\n"
          ]
        }
      ]
    },
    {
      "cell_type": "code",
      "source": [
        "a = 2\n",
        "b = 3\n",
        "print( a + a * b)"
      ],
      "metadata": {
        "colab": {
          "base_uri": "https://localhost:8080/"
        },
        "id": "kOwyIYdnJnf7",
        "outputId": "0a738913-c3e4-4129-ece1-fed681854109"
      },
      "execution_count": 4,
      "outputs": [
        {
          "output_type": "stream",
          "name": "stdout",
          "text": [
            "8\n"
          ]
        }
      ]
    }
  ]
}