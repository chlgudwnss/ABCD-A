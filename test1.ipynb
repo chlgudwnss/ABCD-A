{
  "nbformat": 4,
  "nbformat_minor": 0,
  "metadata": {
    "colab": {
      "provenance": [],
      "authorship_tag": "ABX9TyMgyfxMy8lcoSL+Fx/w7ksW",
      "include_colab_link": true
    },
    "kernelspec": {
      "name": "python3",
      "display_name": "Python 3"
    },
    "language_info": {
      "name": "python"
    }
  },
  "cells": [
    {
      "cell_type": "markdown",
      "metadata": {
        "id": "view-in-github",
        "colab_type": "text"
      },
      "source": [
        "<a href=\"https://colab.research.google.com/github/chlgudwnss/ABCD-A/blob/20250308/test1.ipynb\" target=\"_parent\"><img src=\"https://colab.research.google.com/assets/colab-badge.svg\" alt=\"Open In Colab\"/></a>"
      ]
    },
    {
      "cell_type": "code",
      "execution_count": 5,
      "metadata": {
        "colab": {
          "base_uri": "https://localhost:8080/"
        },
        "id": "YSspFDTEvdLZ",
        "outputId": "bc8741a7-622c-4b34-8eab-c45a91041787"
      },
      "outputs": [
        {
          "output_type": "stream",
          "name": "stdout",
          "text": [
            "pig\n",
            "dad\n",
            "100000\n",
            "pigdad\n",
            "pig dad\n",
            "1\n",
            "1\n",
            "[200, 20, 30]\n",
            "Hello World\n",
            "Hello World\n",
            "1\n",
            "1\n",
            "c=1\n",
            "c= 1\n",
            "c=1\n",
            "[10, 20, 30]\n",
            "a=[10, 20, 30]\n",
            "b=1\n",
            "a=[10, 20, 30], b=1, c=2\n",
            "a=10, b=1, c=2\n"
          ]
        }
      ],
      "source": [
        "    watch = 100000\n",
        "    a = 'pig'\n",
        "    b = 'dad'\n",
        "\n",
        "    print(a)\n",
        "    print(b)\n",
        "    print(watch)\n",
        "    print(a+b)\n",
        "    print(a+' '+b)\n",
        "\n",
        "\n",
        "\n",
        "    aa = 1\n",
        "    bb = 1\n",
        "    aa, bb = bb, aa\n",
        "    print(aa)\n",
        "    print(bb)\n",
        "\n",
        "\n",
        "\n",
        "    a1 = [10,20,30]\n",
        "    b1 = a1\n",
        "    a1[0] = 200\n",
        "    print(b1)\n",
        "\n",
        "\n",
        "    #print사용예제입니다.\n",
        "    print(\"Hello World\")\n",
        "    print('Hello World')\n",
        "    print(1)\n",
        "    print(\"1\")\n",
        "    c = 1\n",
        "    print(\"c=\"+str(c))\n",
        "    print(\"c=\", c)\n",
        "    print(\"c={}\". format(c))\n",
        "\n",
        "\n",
        "\n",
        "    #day1 프로그램\n",
        "    a = [10, 20 ,30]\n",
        "    b = 1\n",
        "    c = 2\n",
        "    print(a)\n",
        "    print(\"a={}\".format(a))\n",
        "    print(\"b={}\".format(b))\n",
        "    print(\"a={}, b={}, c={}\".format(a,b,c))\n",
        "    print(\"a={}, b={}, c={}\".format(a[0],b,c))\n"
      ]
    }
  ]
}