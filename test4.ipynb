{
  "nbformat": 4,
  "nbformat_minor": 0,
  "metadata": {
    "colab": {
      "provenance": [],
      "authorship_tag": "ABX9TyNV250Qd/Lfqydy1kDiQQRx",
      "include_colab_link": true
    },
    "kernelspec": {
      "name": "python3",
      "display_name": "Python 3"
    },
    "language_info": {
      "name": "python"
    }
  },
  "cells": [
    {
      "cell_type": "markdown",
      "metadata": {
        "id": "view-in-github",
        "colab_type": "text"
      },
      "source": [
        "<a href=\"https://colab.research.google.com/github/chlgudwnss/ABCD-A/blob/20250319/test4.ipynb\" target=\"_parent\"><img src=\"https://colab.research.google.com/assets/colab-badge.svg\" alt=\"Open In Colab\"/></a>"
      ]
    },
    {
      "cell_type": "code",
      "execution_count": 1,
      "metadata": {
        "colab": {
          "base_uri": "https://localhost:8080/"
        },
        "id": "Z-1_Uq_wuN33",
        "outputId": "4d4f8289-f9cd-40cd-ba9d-04ae96e09350"
      },
      "outputs": [
        {
          "output_type": "execute_result",
          "data": {
            "text/plain": [
              "1.3333333333333333"
            ]
          },
          "metadata": {},
          "execution_count": 1
        }
      ],
      "source": [
        "4/3"
      ]
    },
    {
      "cell_type": "code",
      "source": [
        "1/2"
      ],
      "metadata": {
        "colab": {
          "base_uri": "https://localhost:8080/"
        },
        "id": "dQY4gzehudHx",
        "outputId": "e30a0b8b-a535-4491-e59c-b4ae57c7c94e"
      },
      "execution_count": 6,
      "outputs": [
        {
          "output_type": "execute_result",
          "data": {
            "text/plain": [
              "0.5"
            ]
          },
          "metadata": {},
          "execution_count": 6
        }
      ]
    },
    {
      "cell_type": "code",
      "source": [
        "4/2"
      ],
      "metadata": {
        "colab": {
          "base_uri": "https://localhost:8080/"
        },
        "id": "mmLrvLo8udGY",
        "outputId": "3e2f1681-6e64-4ccc-bca5-9e0b064dd6db"
      },
      "execution_count": 5,
      "outputs": [
        {
          "output_type": "execute_result",
          "data": {
            "text/plain": [
              "2.0"
            ]
          },
          "metadata": {},
          "execution_count": 5
        }
      ]
    },
    {
      "cell_type": "code",
      "source": [
        "7//3"
      ],
      "metadata": {
        "colab": {
          "base_uri": "https://localhost:8080/"
        },
        "id": "VY5z7offukmE",
        "outputId": "3522f10f-d7b9-4891-e522-88b4391f5247"
      },
      "execution_count": 4,
      "outputs": [
        {
          "output_type": "execute_result",
          "data": {
            "text/plain": [
              "2"
            ]
          },
          "metadata": {},
          "execution_count": 4
        }
      ]
    },
    {
      "cell_type": "code",
      "source": [
        "7%3"
      ],
      "metadata": {
        "colab": {
          "base_uri": "https://localhost:8080/"
        },
        "id": "lH7q1RmkukkY",
        "outputId": "facaccdd-b8dd-49eb-bdb7-9e828d9dd5e2"
      },
      "execution_count": 3,
      "outputs": [
        {
          "output_type": "execute_result",
          "data": {
            "text/plain": [
              "1"
            ]
          },
          "metadata": {},
          "execution_count": 3
        }
      ]
    },
    {
      "cell_type": "code",
      "source": [
        "2**10"
      ],
      "metadata": {
        "colab": {
          "base_uri": "https://localhost:8080/"
        },
        "id": "HtnGgoQoulE9",
        "outputId": "c5692358-c927-482b-adf3-24b237ef1492"
      },
      "execution_count": 2,
      "outputs": [
        {
          "output_type": "execute_result",
          "data": {
            "text/plain": [
              "1024"
            ]
          },
          "metadata": {},
          "execution_count": 2
        }
      ]
    },
    {
      "cell_type": "code",
      "source": [
        "int(5/2)  #정수형이라서 소수점 버림"
      ],
      "metadata": {
        "colab": {
          "base_uri": "https://localhost:8080/"
        },
        "id": "cXEBrn2JulDU",
        "outputId": "0e7f7e3d-282e-43be-d8cc-8ef2e4f7c9fb"
      },
      "execution_count": 11,
      "outputs": [
        {
          "output_type": "execute_result",
          "data": {
            "text/plain": [
              "2"
            ]
          },
          "metadata": {},
          "execution_count": 11
        }
      ]
    },
    {
      "cell_type": "code",
      "source": [
        "5/2"
      ],
      "metadata": {
        "colab": {
          "base_uri": "https://localhost:8080/"
        },
        "id": "3Nqz5zz3ulaH",
        "outputId": "d57b5937-53bc-41a5-d846-711e832d4716"
      },
      "execution_count": 12,
      "outputs": [
        {
          "output_type": "execute_result",
          "data": {
            "text/plain": [
              "2.5"
            ]
          },
          "metadata": {},
          "execution_count": 12
        }
      ]
    },
    {
      "cell_type": "code",
      "source": [
        "a = 11 + 2\n",
        "b = 12 - 2\n",
        "c = 13 * 2\n",
        "d = 14 / 2\n",
        "e = 15 ** 2\n",
        "f = 16 // 2\n",
        "g = 17 % 3\n",
        "print( a, b, c, d, e, f, g)"
      ],
      "metadata": {
        "colab": {
          "base_uri": "https://localhost:8080/"
        },
        "id": "klntJtoZul0x",
        "outputId": "0c5f98d4-04f4-4ff5-bcaa-d44f1ca5d669"
      },
      "execution_count": 13,
      "outputs": [
        {
          "output_type": "stream",
          "name": "stdout",
          "text": [
            "13 10 26 7.0 225 8 2\n"
          ]
        }
      ]
    },
    {
      "cell_type": "code",
      "source": [
        "i = 3\n",
        "i += 3\n",
        "print(i)\n",
        "i -= 3\n",
        "print(i)\n",
        "i *=2\n",
        "print(i)\n",
        "i /=2 #나누기 값은 실수형\n",
        "print(int (i))\n",
        "i = 3\n",
        "i %=2\n",
        "print(i)"
      ],
      "metadata": {
        "colab": {
          "base_uri": "https://localhost:8080/"
        },
        "id": "q9bQH9C7ulzE",
        "outputId": "d37a2ae8-18e8-4564-bdb9-fe2632ba83f4"
      },
      "execution_count": 14,
      "outputs": [
        {
          "output_type": "stream",
          "name": "stdout",
          "text": [
            "6\n",
            "3\n",
            "6\n",
            "3\n",
            "1\n"
          ]
        }
      ]
    },
    {
      "cell_type": "code",
      "source": [
        "a = 10\n",
        "b = 3\n",
        "print(\"10 == 3 =>\", a == b)\n",
        "print(\"10 != 3 =>\", a != b)\n",
        "print(\"10 >3 =>\", a > b)\n",
        "print(\"10 >= 3 =>\", a >= b)\n",
        "print(\"10 < 3 =>\", a >= b)\n",
        "print(\"10 <= 3 =>\", a <= b)\n",
        "print()"
      ],
      "metadata": {
        "colab": {
          "base_uri": "https://localhost:8080/"
        },
        "id": "BvPjK4gjulxY",
        "outputId": "d5afdfe3-8ab4-47ee-aa07-add67ab82694"
      },
      "execution_count": 20,
      "outputs": [
        {
          "output_type": "stream",
          "name": "stdout",
          "text": [
            "10 == 3 => False\n",
            "10 != 3 => True\n",
            "10 >3 => True\n",
            "10 >= 3 => True\n",
            "10 < 3 => True\n",
            "10 <= 3 => False\n",
            "\n"
          ]
        }
      ]
    },
    {
      "cell_type": "code",
      "source": [
        "a = 13\n",
        "b = 9\n",
        "print(bin(a))\n",
        "print(bin(b))\n",
        "print(bin(a&b))\n",
        "print(a&b)"
      ],
      "metadata": {
        "colab": {
          "base_uri": "https://localhost:8080/"
        },
        "id": "46MOuPLtumHj",
        "outputId": "ae5d3dc8-fef7-47eb-a802-838c57f6584e"
      },
      "execution_count": 21,
      "outputs": [
        {
          "output_type": "stream",
          "name": "stdout",
          "text": [
            "0b1101\n",
            "0b1001\n",
            "0b1001\n",
            "9\n"
          ]
        }
      ]
    },
    {
      "cell_type": "code",
      "source": [
        "a = 13\n",
        "b = 9\n",
        "print(bin(a))\n",
        "print(bin(b))\n",
        "print(bin(a|b))\n",
        "print(a|b)"
      ],
      "metadata": {
        "colab": {
          "base_uri": "https://localhost:8080/"
        },
        "id": "_Y2Yg9suwmVL",
        "outputId": "8c6bcaaa-9fce-4109-80ba-5f929ed06014"
      },
      "execution_count": 22,
      "outputs": [
        {
          "output_type": "stream",
          "name": "stdout",
          "text": [
            "0b1101\n",
            "0b1001\n",
            "0b1101\n",
            "13\n"
          ]
        }
      ]
    },
    {
      "cell_type": "code",
      "source": [
        "a = 12\n",
        "b = 8\n",
        "print(bin(a))\n",
        "print(bin(b))\n",
        "print(bin(a^b))\n",
        "print('')\n",
        "print(a^b)"
      ],
      "metadata": {
        "colab": {
          "base_uri": "https://localhost:8080/"
        },
        "id": "PQhXGhTcwmJ1",
        "outputId": "fb830102-2746-4fc4-e7b5-0550110f148c"
      },
      "execution_count": 23,
      "outputs": [
        {
          "output_type": "stream",
          "name": "stdout",
          "text": [
            "0b1100\n",
            "0b1000\n",
            "0b100\n",
            "\n",
            "4\n"
          ]
        }
      ]
    },
    {
      "cell_type": "code",
      "source": [
        "a = 12\n",
        "b = 8\n",
        "print(bin(a))\n",
        "print(bin(~a))"
      ],
      "metadata": {
        "colab": {
          "base_uri": "https://localhost:8080/"
        },
        "id": "2CVUuBLYwl2g",
        "outputId": "221aeaba-5110-4055-d031-0f2850026d64"
      },
      "execution_count": 24,
      "outputs": [
        {
          "output_type": "stream",
          "name": "stdout",
          "text": [
            "0b1100\n",
            "-0b1101\n"
          ]
        }
      ]
    },
    {
      "cell_type": "code",
      "source": [
        "def gugudan(num):\n",
        "    for i in range(1, 10):\n",
        "      print(f'{num} x {i} = {num * i}')\n",
        "    print()\n",
        "\n",
        "gugudan (2)"
      ],
      "metadata": {
        "colab": {
          "base_uri": "https://localhost:8080/"
        },
        "id": "BaTzn67Nwses",
        "outputId": "ad3d00e9-1168-4f95-d9e8-d1ce5dc33de5"
      },
      "execution_count": 25,
      "outputs": [
        {
          "output_type": "stream",
          "name": "stdout",
          "text": [
            "2 x 1 = 2\n",
            "2 x 2 = 4\n",
            "2 x 3 = 6\n",
            "2 x 4 = 8\n",
            "2 x 5 = 10\n",
            "2 x 6 = 12\n",
            "2 x 7 = 14\n",
            "2 x 8 = 16\n",
            "2 x 9 = 18\n",
            "\n"
          ]
        }
      ]
    }
  ]
}