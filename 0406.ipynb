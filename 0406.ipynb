{
  "nbformat": 4,
  "nbformat_minor": 0,
  "metadata": {
    "colab": {
      "provenance": [],
      "gpuType": "T4",
      "authorship_tag": "ABX9TyMW+Sf5BnQJWBObeNkQZIuo",
      "include_colab_link": true
    },
    "kernelspec": {
      "name": "python3",
      "display_name": "Python 3"
    },
    "language_info": {
      "name": "python"
    },
    "accelerator": "GPU"
  },
  "cells": [
    {
      "cell_type": "markdown",
      "metadata": {
        "id": "view-in-github",
        "colab_type": "text"
      },
      "source": [
        "<a href=\"https://colab.research.google.com/github/chlgudwnss/ABCD-A/blob/20250406/0406.ipynb\" target=\"_parent\"><img src=\"https://colab.research.google.com/assets/colab-badge.svg\" alt=\"Open In Colab\"/></a>"
      ]
    },
    {
      "cell_type": "code",
      "execution_count": 1,
      "metadata": {
        "colab": {
          "base_uri": "https://localhost:8080/"
        },
        "id": "n1dNIO4WBjAA",
        "outputId": "5f781e6b-9818-4ed0-db3c-a697eeee8ad6"
      },
      "outputs": [
        {
          "output_type": "stream",
          "name": "stdout",
          "text": [
            "공이 떨어지기까지 걸린 시간(s)을 입력하세요: 8\n",
            "수평 거리(m)를 입력하세요: 80\n",
            "\n",
            "[결과]\n",
            "a) 공의 처음속도 크기: 10.00 m/s\n",
            "b) 건물 높이: 313.92 m\n",
            "c) 충돌 순간 속도 크기: 79.11 m/s\n",
            "   충돌 순간 속도 방향 (수평선과 이루는 각도): 82.74도\n"
          ]
        }
      ],
      "source": [
        "import math\n",
        "t = float(input(\"공이 떨어지기까지 걸린 시간(s)을 입력하세요: \"));\n",
        "x = float(input(\"수평 거리(m)를 입력하세요: \"))\n",
        "g = 9.81;\n",
        "a = -g; #중력가속도는 -y방향으로 작용\n",
        "y0 = 0;\n",
        "v0y = 0;\n",
        "\n",
        "#a 공의 처음속도 >> 2초에 20m을 움직임 >> x/t = 10m/s\n",
        "v0x = x/t\n",
        "#b 옥상의 높이 >> 2초 후에 공이 지면에 닿음 >> y = y0 + v0t + 1/2at^2 >> y = 0m + 0 * 2s + 1/2(-9.81m/s^2*4s^2) >> y = 0m + 0 + 1/2(-9.81m*4) = 19.62m\n",
        "y = y0 + v0y*t + 1/2*g*t*t;\n",
        "#c 공이 지면에 닿을 때의 속도 >> vx = 초기속도 = v0x = 10m/s, vy = v0y + at >> vy = 0*y(=19.62m) + (-9.81m/s^2)*2s = -19.62m/s\n",
        "vx = v0x;\n",
        "vy = v0y + g * t;\n",
        "\n",
        " # 최종 속도 크기 >> 루트({vx}^2 + {vy}^2)\n",
        "v = math.sqrt(vx*vx + vy*vy);\n",
        "\n",
        "theta_rad = math.atan(vy/vx);\n",
        "theta_deg = math.degrees(theta_rad);\n",
        "\n",
        "print(f\"\\n[결과]\")\n",
        "\n",
        "print(f\"a) 공의 처음속도 크기: {v0x:.2f} m/s\") # v0x를 사용했으므로 v0 > v0x로 교체\n",
        "\n",
        "print(f\"b) 건물 높이: {y:.2f} m\")\n",
        "\n",
        "print(f\"c) 충돌 순간 속도 크기: {v:.2f} m/s\")\n",
        "\n",
        "print(f\"   충돌 순간 속도 방향 (수평선과 이루는 각도): {theta_deg:.2f}도\")"
      ]
    }
  ]
}