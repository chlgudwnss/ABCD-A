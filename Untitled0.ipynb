{
  "nbformat": 4,
  "nbformat_minor": 0,
  "metadata": {
    "colab": {
      "provenance": [],
      "authorship_tag": "ABX9TyMTuVOpxcu/4O1bZoZbdXeF",
      "include_colab_link": true
    },
    "kernelspec": {
      "name": "python3",
      "display_name": "Python 3"
    },
    "language_info": {
      "name": "python"
    }
  },
  "cells": [
    {
      "cell_type": "markdown",
      "metadata": {
        "id": "view-in-github",
        "colab_type": "text"
      },
      "source": [
        "<a href=\"https://colab.research.google.com/github/chlgudwnss/ABCD-A/blob/20250411/Untitled0.ipynb\" target=\"_parent\"><img src=\"https://colab.research.google.com/assets/colab-badge.svg\" alt=\"Open In Colab\"/></a>"
      ]
    },
    {
      "cell_type": "code",
      "execution_count": null,
      "metadata": {
        "colab": {
          "base_uri": "https://localhost:8080/",
          "height": 202
        },
        "id": "hIDV_SR6fWkk",
        "outputId": "61d05eef-5554-4698-e641-17b5af8fbded"
      },
      "outputs": [
        {
          "output_type": "error",
          "ename": "TypeError",
          "evalue": "len() takes exactly one argument (0 given)",
          "traceback": [
            "\u001b[0;31m---------------------------------------------------------------------------\u001b[0m",
            "\u001b[0;31mTypeError\u001b[0m                                 Traceback (most recent call last)",
            "\u001b[0;32m<ipython-input-1-5390078e0cad>\u001b[0m in \u001b[0;36m<cell line: 0>\u001b[0;34m()\u001b[0m\n\u001b[0;32m----> 1\u001b[0;31m \u001b[0mlen\u001b[0m\u001b[0;34m(\u001b[0m\u001b[0;34m)\u001b[0m\u001b[0;34m\u001b[0m\u001b[0;34m\u001b[0m\u001b[0m\n\u001b[0m\u001b[1;32m      2\u001b[0m \u001b[0mmin\u001b[0m\u001b[0;34m(\u001b[0m\u001b[0;34m)\u001b[0m\u001b[0;34m\u001b[0m\u001b[0;34m\u001b[0m\u001b[0m\n\u001b[1;32m      3\u001b[0m \u001b[0mmax\u001b[0m\u001b[0;34m(\u001b[0m\u001b[0;34m)\u001b[0m\u001b[0;34m\u001b[0m\u001b[0;34m\u001b[0m\u001b[0m\n\u001b[1;32m      4\u001b[0m \u001b[0mcount\u001b[0m\u001b[0;34m(\u001b[0m\u001b[0;34m)\u001b[0m\u001b[0;34m\u001b[0m\u001b[0;34m\u001b[0m\u001b[0m\n",
            "\u001b[0;31mTypeError\u001b[0m: len() takes exactly one argument (0 given)"
          ]
        }
      ],
      "source": [
        "len()\n",
        "min()\n",
        "max()\n",
        "count()"
      ]
    },
    {
      "cell_type": "code",
      "source": [
        "startswith()\n",
        "endswith()\n",
        "\n",
        "find()\n",
        "rfind()\n",
        "\n",
        "index()\n",
        "rindex()"
      ],
      "metadata": {
        "colab": {
          "base_uri": "https://localhost:8080/",
          "height": 221
        },
        "id": "1xhIzHjZfbB2",
        "outputId": "8af8dfc2-04fd-4afe-f31c-986604a61692"
      },
      "execution_count": null,
      "outputs": [
        {
          "output_type": "error",
          "ename": "NameError",
          "evalue": "name 'startswith' is not defined",
          "traceback": [
            "\u001b[0;31m---------------------------------------------------------------------------\u001b[0m",
            "\u001b[0;31mNameError\u001b[0m                                 Traceback (most recent call last)",
            "\u001b[0;32m<ipython-input-2-5bec41b91d5f>\u001b[0m in \u001b[0;36m<cell line: 0>\u001b[0;34m()\u001b[0m\n\u001b[0;32m----> 1\u001b[0;31m \u001b[0mstartswith\u001b[0m\u001b[0;34m(\u001b[0m\u001b[0;34m)\u001b[0m\u001b[0;34m\u001b[0m\u001b[0;34m\u001b[0m\u001b[0m\n\u001b[0m\u001b[1;32m      2\u001b[0m \u001b[0mendswith\u001b[0m\u001b[0;34m(\u001b[0m\u001b[0;34m)\u001b[0m\u001b[0;34m\u001b[0m\u001b[0;34m\u001b[0m\u001b[0m\n\u001b[1;32m      3\u001b[0m \u001b[0;34m\u001b[0m\u001b[0m\n\u001b[1;32m      4\u001b[0m \u001b[0mfind\u001b[0m\u001b[0;34m(\u001b[0m\u001b[0;34m)\u001b[0m\u001b[0;34m\u001b[0m\u001b[0;34m\u001b[0m\u001b[0m\n\u001b[1;32m      5\u001b[0m \u001b[0mrfind\u001b[0m\u001b[0;34m(\u001b[0m\u001b[0;34m)\u001b[0m\u001b[0;34m\u001b[0m\u001b[0;34m\u001b[0m\u001b[0m\n",
            "\u001b[0;31mNameError\u001b[0m: name 'startswith' is not defined"
          ]
        }
      ]
    },
    {
      "cell_type": "code",
      "source": [
        "#len() : Returns the length of the string\n",
        "a = 'I Love Python'\n",
        "print( len(a) )\n",
        "# min(iterable) 함수 예제1 : 리스트 이용\n",
        "a = [1, 2, 3]\n",
        "print(min(a)) # 반환 : 1\n",
        "\n",
        "#함수 예제2 : 문자열 이용\n",
        "b = 'BlockDMask'\n",
        "print(min(b)) # 반환 : 'B'\n",
        "\n",
        "#함수 예제3 : non iterable 인 경우\n",
        "c = 1\n",
        "#print(min(c)) # error : 'int' object is not iterable\n",
        "\n",
        "# min(iterable) 함수 예제4 : 튜플 이용\n",
        "d = (6, 5, 4, 2)\n",
        "print(min(d)) # 반환 : 2\n",
        "\n",
        "# min(iterable) 함수 예제5 : 리스트 이용2\n",
        "e = [3, 4, 5, 'a', 'b', 'c']\n",
        "#print(min(e)) # error : str 타입과 int 타입은 비교할 수 없기\n",
        "\n",
        "#함수 예제2 : 문자열 이용\n",
        "b = 'BlockDMask'\n",
        "print(min(b)) # 반환 : 'B'\n",
        "\n",
        "#함수 예제3 : non iterable 인 경우\n",
        "c = 1\n",
        "#print(min(c)) # error : 'int' object is not iterable\n",
        "\n",
        "# min(iterable) 함수 예제4 : 튜플 이용\n",
        "d = (6, 5, 4, 2)\n",
        "print(min(d)) # 반환 : 2\n",
        "\n",
        "# min(iterable) 함수 예제5 : 리스트 이용2\n",
        "e = [3, 4, 5, 'a', 'b', 'c']\n",
        "#print(min(e)) # error : str 타입과 int 타입은 비교할 수 없기"
      ],
      "metadata": {
        "colab": {
          "base_uri": "https://localhost:8080/"
        },
        "id": "U0dbThWLfa_X",
        "outputId": "b08675b0-7059-40c6-a050-8f9164f0bcd4"
      },
      "execution_count": null,
      "outputs": [
        {
          "output_type": "stream",
          "name": "stdout",
          "text": [
            "13\n",
            "1\n",
            "B\n",
            "2\n",
            "B\n",
            "2\n"
          ]
        }
      ]
    },
    {
      "cell_type": "code",
      "source": [
        "# min(arg1, arg2) 함수 예제1 : 리스트\n",
        "a = [1, 2, 3]\n",
        "b = [4, 5, 6]\n",
        "print(min(a, b)) # 반환 : [1,2,3]\n",
        "\n",
        "# min(arg1, arg2) 함수 예제2 : 문자열\n",
        "c = 'BlockDMask'\n",
        "d = 'BAAAlockDMask'\n",
        "print(min(c, d)) # 반환 : 'B’\n",
        "\n",
        "# min(arg1, arg2) 함수 예제3 : 타입이 다른 경우\n",
        "e = [3, 2, 1]\n",
        "f = ['a', 3, 2, 1]\n",
        "# print(min(e, f)) # error # TypeError: '<' not supported between instances of 'str' and 'int’\n",
        "\n",
        "# min(arg1, arg2, ...) 함수 예제4 : 인자가 N 개\n",
        "g = [2, 3, 4]\n",
        "h = [2, 2, 2, 2, 2]\n",
        "i = [9, 8, 7, 6, 5]\n",
        "j = [1]\n",
        "k = [0]\n",
        "print(min(g, h, i, j, k)) # 반환 : [0in(arg1, arg2) 함수 예제1 : 리스트\n",
        "a = [1, 2, 3]\n",
        "b = [4, 5, 6]\n",
        "print(min(a, b)) # 반환 : [1,2,3]\n",
        "# min(arg1, arg2) 함수 예제1 : 리스트\n",
        "a = [1, 2, 3]\n",
        "b = [4, 5, 6]\n",
        "print(min(a, b)) # 반환 : [1,2,3]\n",
        "\n",
        "# min(arg1, arg2) 함수 예제2 : 문자열\n",
        "c = 'BlockDMask'\n",
        "d = 'BAAAlockDMask'\n",
        "print(min(c, d)) # 반환 : 'B’\n",
        "\n",
        "# min(arg1, arg2) 함수 예제3 : 타입이 다른 경우\n",
        "e = [3, 2, 1]\n",
        "f = ['a', 3, 2, 1]\n",
        "# print(min(e, f)) # error # TypeError: '<' not supported between instances of 'str' and 'int’\n",
        "\n",
        "# min(arg1, arg2, ...) 함수 예제4 : 인자가 N 개\n",
        "g = [2, 3, 4]\n",
        "h = [2, 2, 2, 2, 2]\n",
        "i = [9, 8, 7, 6, 5]\n",
        "j = [1]\n",
        "k = [0]\n",
        "print(min(g, h, i, j, k)) # 반환 : [0]\n",
        "\n",
        "# min(arg1, arg2) 함수 예제3 : 타입이 다른 경우\n",
        "e = [3, 2, 1]\n",
        "f = ['a', 3, 2, 1]\n",
        "# print(min(e, f)) # error # TypeError: '<' not supported between instances of 'str' and 'int’\n",
        "\n",
        "# min(arg1, arg2, ...) 함수 예제4 : 인자가 N 개\n",
        "g = [2, 3, 4]\n",
        "h = [2, 2, 2, 2, 2]\n",
        "i = [9, 8, 7, 6, 5]\n",
        "j = [1]\n",
        "k = [0]\n",
        "print(min(g, h, i, j, k)) # 반환 : [0]"
      ],
      "metadata": {
        "colab": {
          "base_uri": "https://localhost:8080/"
        },
        "id": "AiybgmVUfa9G",
        "outputId": "a1100db4-165c-4340-d9fc-a18882cdbabe"
      },
      "execution_count": null,
      "outputs": [
        {
          "output_type": "stream",
          "name": "stdout",
          "text": [
            "[1, 2, 3]\n",
            "BAAAlockDMask\n",
            "[0]\n",
            "[1, 2, 3]\n",
            "[1, 2, 3]\n",
            "BAAAlockDMask\n",
            "[0]\n",
            "[0]\n"
          ]
        }
      ]
    },
    {
      "cell_type": "code",
      "source": [
        "myString = \"everdevel\"\n",
        "print(myString.count('e'))\n",
        "# 문자열 'BlockDMask' 선언\n",
        "a = 'BlockDMask'\n",
        "\n",
        "# 문자열에서 'k'가 몇개 있는지 ?\n",
        "print('#1 a.count(\"k\")')\n",
        "print(a.count('k')) # 문자열에서 'DM'가 몇개 있는지 ?\n",
        "print('#2 a.count(\"DM\")')\n",
        "print(a.count('DM'))\n",
        "\n",
        "# 문자열에서 특정 범위 내부에 'k' 가 몇개 있는지?\n",
        "# B l o c k D M a s k 에서 index를 표기해보면\n",
        "# 0 1 2 3 4 5 6 7 8 9 입니다.\n",
        "print(\"#3 a[2] + ' ~ ' + a[4]\")\n",
        "print(a[2] + ' ~ ' + a[4])\n",
        "print(\"#4 a.count('k', 2, 3)\")\n",
        "print(a.count('k', 2, 3))\n",
        "print(\"#5 a.count('k', 2, 4)\")\n",
        "myString = \"everdevel\"\n",
        "print(myString.count('e'))\n",
        "# 문자열 'BlockDMask' 선언\n",
        "a = 'BlockDMask'\n",
        "\n",
        "# 문자열에서 'k'가 몇개 있는지 ?\n",
        "print('#1 a.count(\"k\")')\n",
        "print(a.count('k')) # 문자열에서 'DM'가 몇개 있는지 ?\n",
        "print('#2 a.count(\"DM\")')\n",
        "print(a.count('DM'))\n",
        "\n",
        "# 문자열에서 특정 범위 내부에 'k' 가 몇개 있는지?\n",
        "# B l o c k D M a s k 에서 index를 표기해보면\n",
        "# 0 1 2 3 4 5 6 7 8 9 입니다.\n",
        "print(\"#3 a[2] + ' ~ ' + a[4]\")\n",
        "print(a[2] + ' ~ ' + a[4])\n",
        "print(\"#4 a.count('k', 2, 3)\")\n",
        "print(a.count('k', 2, 3))\n",
        "print(\"#5 a.count('k', 2, 4)\")\n",
        "print(a.count('k', 2, 4))\n",
        "print(\"#6 a.count('k', 2, 5)\")\n",
        "print(a.count('k', 2, 5))"
      ],
      "metadata": {
        "colab": {
          "base_uri": "https://localhost:8080/"
        },
        "id": "Vm34phv8fa6u",
        "outputId": "fd8b4210-6208-4854-908a-51547773ab5b"
      },
      "execution_count": null,
      "outputs": [
        {
          "output_type": "stream",
          "name": "stdout",
          "text": [
            "4\n",
            "#1 a.count(\"k\")\n",
            "2\n",
            "#2 a.count(\"DM\")\n",
            "1\n",
            "#3 a[2] + ' ~ ' + a[4]\n",
            "o ~ k\n",
            "#4 a.count('k', 2, 3)\n",
            "0\n",
            "#5 a.count('k', 2, 4)\n",
            "4\n",
            "#1 a.count(\"k\")\n",
            "2\n",
            "#2 a.count(\"DM\")\n",
            "1\n",
            "#3 a[2] + ' ~ ' + a[4]\n",
            "o ~ k\n",
            "#4 a.count('k', 2, 3)\n",
            "0\n",
            "#5 a.count('k', 2, 4)\n",
            "0\n",
            "#6 a.count('k', 2, 5)\n",
            "1\n"
          ]
        }
      ]
    },
    {
      "cell_type": "code",
      "source": [
        "str= \"BlockDMask Blog.\";\n",
        "print(f\"str : {str}\\n\")\n",
        "\n",
        "# find 예제1\n",
        "print(\"1. str.find('찾을 문자')\")\n",
        "result1 = str.find('a’)\n",
        "\n",
        "# 문자가 있는 경우\n",
        "result2 = str.find('Z’)\n",
        "\n",
        "# 문자가 없는 경우\n",
        "print(f\"str.find('a') : {result1}\")\n",
        "print(f\"str.find('Z') : {result2}\")\n",
        "result3 = str.find('ask’)\n",
        "# 문자열이 있는 경우\n",
        "result4 = str.find('kkk’)\n",
        "\n",
        "# 문자열이 없는 경우\n",
        "print(f\"str.find('ask') : {result3}\") print(f\"str.find('kkk') : {result4}\")\n",
        "print()\n",
        "\n",
        "# find 예제2\n",
        "print(\"2. str.find('찾을 문자', 시작index)\") result5 = str.find('o’)\n",
        "result6 = str.find('o', 5) print(f\"str.find('o') : {result5}\") print(f\"str[5] : {str[5]}\") print(f\"str.find('o', 5) : {result6}\")\n",
        "print()\n",
        "\n",
        "# find 예제3\n",
        "print(\"3. str.find('찾을 문자', 시작 index, 끝 index)\")\n",
        "result7 = str.find('o’)\n",
        "result8 = str.find('o', 5, 11)\n",
        "\n",
        "# \"DMask B\"\n",
        "print(f\"str.find('o') : {result7}\") print(f\"str[5]~str[11] : {str[5]} ~ {str[11]}\")\n",
        "print(f\"str.find('o', 5, 11) : {result8}\")"
      ],
      "metadata": {
        "colab": {
          "base_uri": "https://localhost:8080/",
          "height": 110
        },
        "id": "Yf64FRyrfa4W",
        "outputId": "5b6f74f1-5acc-426a-9fc7-d4ff66f1cf3b"
      },
      "execution_count": null,
      "outputs": [
        {
          "output_type": "error",
          "ename": "SyntaxError",
          "evalue": "invalid non-printable character U+00A0 (<ipython-input-10-bc42b1709e26>, line 1)",
          "traceback": [
            "\u001b[0;36m  File \u001b[0;32m\"<ipython-input-10-bc42b1709e26>\"\u001b[0;36m, line \u001b[0;32m1\u001b[0m\n\u001b[0;31m    str= \"BlockDMask Blog.\";\u001b[0m\n\u001b[0m        ^\u001b[0m\n\u001b[0;31mSyntaxError\u001b[0m\u001b[0;31m:\u001b[0m invalid non-printable character U+00A0\n"
          ]
        }
      ]
    },
    {
      "cell_type": "code",
      "source": [
        "str = 'Hello world, Python!'\n",
        "\n",
        "if str.startswith('Hello'):\n",
        "    print('It starts with Hello')\n",
        "\n",
        "if not str.startswith('Python'):\n",
        "    print('It does not start with Python')\n",
        "    print('It starts with Hello')\n",
        "\n",
        "if not str.startswith('Python'):\n",
        "    print('It does not start with Python')"
      ],
      "metadata": {
        "colab": {
          "base_uri": "https://localhost:8080/"
        },
        "id": "JW3uSq0Gfa1-",
        "outputId": "518ab1b9-4ca5-4da8-ac13-1fbad0a07ad6"
      },
      "execution_count": null,
      "outputs": [
        {
          "output_type": "stream",
          "name": "stdout",
          "text": [
            "It starts with Hello\n",
            "It does not start with Python\n",
            "It starts with Hello\n",
            "It does not start with Python\n"
          ]
        }
      ]
    },
    {
      "cell_type": "code",
      "source": [
        "str = \"this is string example....wow!!!\"\n",
        "\n",
        "suffix = \"wow!!!\"\n",
        "print(str.endswith(suffix))\n",
        "print(str.endswith(suffix,20))\n",
        "\n",
        "suffix = \"is\"\n",
        "print(str.endswith(suffix, 2, 4))\n",
        "print(str.endswith(suffix, 2, 6))"
      ],
      "metadata": {
        "colab": {
          "base_uri": "https://localhost:8080/"
        },
        "id": "0DPPciUxfazO",
        "outputId": "3618c9af-2f46-40cb-c3e9-e197d4a48d0d"
      },
      "execution_count": null,
      "outputs": [
        {
          "output_type": "stream",
          "name": "stdout",
          "text": [
            "True\n",
            "True\n",
            "True\n",
            "False\n"
          ]
        }
      ]
    },
    {
      "cell_type": "code",
      "source": [
        "text = 'Welcome to Codetorial'\n",
        "\n",
        "pos_e_last = text.rfind('e')\n",
        "print(pos_e_last)\n",
        "\n",
        "pos_e_first = text.find('e')\n",
        "print(pos_e_first)\n",
        "\n",
        "pos_to_last = text.rfind('to')\n",
        "print(pos_to_last)\n",
        "\n",
        "pos_to_first = text.find('to')\n",
        "print(pos_to_first)"
      ],
      "metadata": {
        "colab": {
          "base_uri": "https://localhost:8080/"
        },
        "id": "lS322arufasf",
        "outputId": "fc21bb17-b69c-4345-e39d-01231c391715"
      },
      "execution_count": null,
      "outputs": [
        {
          "output_type": "stream",
          "name": "stdout",
          "text": [
            "14\n",
            "1\n",
            "15\n",
            "8\n"
          ]
        }
      ]
    },
    {
      "cell_type": "code",
      "source": [
        "# 리스트.index(x)\n",
        "# 데이터 x의 위치 반환\n",
        "nums_list = [1,2,3,3,3,5,6,8,9]\n",
        "nums_tuple = (1,2,3,3,3,5,6,8,9)\n",
        "nums_set = {1,2,3,5,6,8,9}\n",
        "\n",
        "print(nums_list.index(2))  # 1\n",
        "print(nums_list.index(3))  # 2\n",
        "# -> 찾고자하는 데이터가 여러개 존재할 경우, 가장 작은 위치 값 반환\n",
        "\n",
        "print(nums_tuple.index(2)) # 1\n",
        "print(nums_tuple.index(3)) # 2\n",
        "#문자열에서 사용\n",
        "str = 'kangminheee'\n",
        "print(str.index('k'))  #0\n",
        "print(str.index('h'))  #7\n",
        "print(str.index('i'))  #5\n",
        "#print(str.index('l')) 없는 걸 찾으면 error\n",
        "print(str.index('e'))  #8 -> 여러개면 제일 첫번째것 반환\n",
        "print(str.find('e'))   #8 -> find()는 index()와 같은 기능을 가진 함수\n",
        "print(str.rfind('e'))  #10 -> 여러개중 가장 오른쪽 것 반환"
      ],
      "metadata": {
        "colab": {
          "base_uri": "https://localhost:8080/"
        },
        "id": "BXlxBguxfs2e",
        "outputId": "49a54e93-1b24-49cb-9fda-8bc13436203e"
      },
      "execution_count": null,
      "outputs": [
        {
          "output_type": "stream",
          "name": "stdout",
          "text": [
            "1\n",
            "2\n",
            "1\n",
            "2\n",
            "0\n",
            "7\n",
            "5\n",
            "8\n",
            "8\n",
            "10\n"
          ]
        }
      ]
    },
    {
      "cell_type": "code",
      "source": [
        "hz = \"홈짱닷컴 Homzzang.com\"\n",
        "\n",
        "x = hz.rindex(\"Homzzang\")\n",
        "\n",
        "print(x)\n",
        "\n",
        "x = hz.rindex(\"o\", 2)\n",
        "print(x)\n",
        "text = 'Welcome to Codetorial'\n",
        "\n",
        "pos_Code_last = text.rindex('Code')\n",
        "print(pos_Code_last)\n",
        "\n",
        "pos_code_last = text.rindex('code')\n",
        "print(pos_code_last)"
      ],
      "metadata": {
        "colab": {
          "base_uri": "https://localhost:8080/",
          "height": 257
        },
        "id": "_Lh8S0FSfun-",
        "outputId": "c08f3cfd-dab9-485a-b6a3-f2475b36baf0"
      },
      "execution_count": null,
      "outputs": [
        {
          "output_type": "stream",
          "name": "stdout",
          "text": [
            "5\n",
            "15\n",
            "11\n"
          ]
        },
        {
          "output_type": "error",
          "ename": "ValueError",
          "evalue": "substring not found",
          "traceback": [
            "\u001b[0;31m---------------------------------------------------------------------------\u001b[0m",
            "\u001b[0;31mValueError\u001b[0m                                Traceback (most recent call last)",
            "\u001b[0;32m<ipython-input-16-06013be642b8>\u001b[0m in \u001b[0;36m<cell line: 0>\u001b[0;34m()\u001b[0m\n\u001b[1;32m     12\u001b[0m \u001b[0mprint\u001b[0m\u001b[0;34m(\u001b[0m\u001b[0mpos_Code_last\u001b[0m\u001b[0;34m)\u001b[0m\u001b[0;34m\u001b[0m\u001b[0;34m\u001b[0m\u001b[0m\n\u001b[1;32m     13\u001b[0m \u001b[0;34m\u001b[0m\u001b[0m\n\u001b[0;32m---> 14\u001b[0;31m \u001b[0mpos_code_last\u001b[0m \u001b[0;34m=\u001b[0m \u001b[0mtext\u001b[0m\u001b[0;34m.\u001b[0m\u001b[0mrindex\u001b[0m\u001b[0;34m(\u001b[0m\u001b[0;34m'code'\u001b[0m\u001b[0;34m)\u001b[0m\u001b[0;34m\u001b[0m\u001b[0;34m\u001b[0m\u001b[0m\n\u001b[0m\u001b[1;32m     15\u001b[0m \u001b[0mprint\u001b[0m\u001b[0;34m(\u001b[0m\u001b[0mpos_code_last\u001b[0m\u001b[0;34m)\u001b[0m\u001b[0;34m\u001b[0m\u001b[0;34m\u001b[0m\u001b[0m\n",
            "\u001b[0;31mValueError\u001b[0m: substring not found"
          ]
        }
      ]
    }
  ]
}