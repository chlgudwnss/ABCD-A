{
  "nbformat": 4,
  "nbformat_minor": 0,
  "metadata": {
    "colab": {
      "provenance": [],
      "authorship_tag": "ABX9TyMR/G5u+XHv7WY7bQsPI7C1",
      "include_colab_link": true
    },
    "kernelspec": {
      "name": "python3",
      "display_name": "Python 3"
    },
    "language_info": {
      "name": "python"
    }
  },
  "cells": [
    {
      "cell_type": "markdown",
      "metadata": {
        "id": "view-in-github",
        "colab_type": "text"
      },
      "source": [
        "<a href=\"https://colab.research.google.com/github/chlgudwnss/ABCD-A/blob/20250329/0329.ipynb\" target=\"_parent\"><img src=\"https://colab.research.google.com/assets/colab-badge.svg\" alt=\"Open In Colab\"/></a>"
      ]
    },
    {
      "cell_type": "code",
      "execution_count": 1,
      "metadata": {
        "colab": {
          "base_uri": "https://localhost:8080/"
        },
        "id": "-p9SHkXKvD8t",
        "outputId": "b20dd4f0-27ec-4db6-f573-e8af9a93180b"
      },
      "outputs": [
        {
          "output_type": "stream",
          "name": "stdout",
          "text": [
            "이름이 맞습니다.\n"
          ]
        }
      ],
      "source": [
        "name = \"BlockDMask\"\n",
        "if name == \"BlockDMask\":\n",
        "  print(\"이름이 맞습니다.\")\n",
        "else:\n",
        "  print(\"이름이 다릅니다.\")"
      ]
    },
    {
      "cell_type": "code",
      "source": [
        "pocket = 1000\n",
        "if pocket == 1000:\n",
        "  print(\"복권 구매\")\n",
        "elif pocket == 500:\n",
        "  print(\"껌 구매\");\n",
        "else:\n",
        "  print(\"집이나 가자\")"
      ],
      "metadata": {
        "colab": {
          "base_uri": "https://localhost:8080/"
        },
        "id": "X8w4wNmhvLCs",
        "outputId": "a2532ad5-2f62-495b-88cd-5bee4d1d8c40"
      },
      "execution_count": 2,
      "outputs": [
        {
          "output_type": "stream",
          "name": "stdout",
          "text": [
            "복권 구매\n"
          ]
        }
      ]
    },
    {
      "cell_type": "code",
      "source": [
        "a = \"사과\"\n",
        "b = \"바나나\"\n",
        "c =  \"치즈\"\n",
        "if a == \"사과\" or b == \"바나나\":\n",
        "    print(\"사과 이거나 바나나 입니다.\")\n",
        "if a == \"사과\" and b == \"바나나\":\n",
        "    print(\"사과 이고 바나나 입니다.\")\n",
        "if not a == \"사과\":\n",
        "    print(\"사과가 어니어야 출력 됩니다.\")"
      ],
      "metadata": {
        "colab": {
          "base_uri": "https://localhost:8080/"
        },
        "id": "9Y1_IWbmvNGf",
        "outputId": "e10fa244-fe54-4bcb-ecb1-21379fb3f243"
      },
      "execution_count": 3,
      "outputs": [
        {
          "output_type": "stream",
          "name": "stdout",
          "text": [
            "사과 이거나 바나나 입니다.\n",
            "사과 이고 바나나 입니다.\n"
          ]
        }
      ]
    },
    {
      "cell_type": "code",
      "source": [
        "a = [1, 2, 3, 4, 5, 6, 7, 8,] #튜플\n",
        "if 1 in a:\n",
        "    print(\"1 is in a\")\n",
        "elif 10 in a:\n",
        "    print(\"10 is in a\")"
      ],
      "metadata": {
        "colab": {
          "base_uri": "https://localhost:8080/"
        },
        "id": "4RjwJCsWvPBH",
        "outputId": "ba04226a-5fda-480c-c6f6-4dd27712e65c"
      },
      "execution_count": 4,
      "outputs": [
        {
          "output_type": "stream",
          "name": "stdout",
          "text": [
            "1 is in a\n"
          ]
        }
      ]
    },
    {
      "cell_type": "code",
      "source": [
        "p_class = \"Z\"\n",
        "sel_amount = 79900\n",
        "\n",
        "if p_class == \"A\":\n",
        "    sel_amount *= 0.7 # 55930.0\n",
        "    print(f'판매가는 {sel_amount}원 입니다.')\n",
        "elif p_class == \"B\": # 67915.0\n",
        "    sel_amount *= 0.85\n",
        "    print(f'판매가는 {sel_amount}원 입니다.')\n",
        "elif p_class == \"C\": # 73508.0\n",
        "    sel_amount *= 0.92\n",
        "    print(f'판매가는 {sel_amount}원 입니다.')\n",
        "elif p_class == \"Z\": # 84911\n",
        "    sel_amount += 5000\n",
        "    print(f'판매가는 {sel_amount}원 입니다.')"
      ],
      "metadata": {
        "colab": {
          "base_uri": "https://localhost:8080/"
        },
        "id": "QLNTdJPKvRyK",
        "outputId": "309e4e58-72ed-4f85-e5f3-638e19259df0"
      },
      "execution_count": 5,
      "outputs": [
        {
          "output_type": "stream",
          "name": "stdout",
          "text": [
            "판매가는 84900원 입니다.\n"
          ]
        }
      ]
    },
    {
      "cell_type": "code",
      "source": [
        "X=2\n",
        "\n",
        "if X%2 == 0:\n",
        "    print(\"Even Number\")\n",
        "else:\n",
        "    print(\"Odd Number\")"
      ],
      "metadata": {
        "colab": {
          "base_uri": "https://localhost:8080/"
        },
        "id": "SKDG1cNqvUW1",
        "outputId": "15a2e7ea-6c2c-4d7d-ef8d-ca9347a570f7"
      },
      "execution_count": 6,
      "outputs": [
        {
          "output_type": "stream",
          "name": "stdout",
          "text": [
            "Even Number\n"
          ]
        }
      ]
    },
    {
      "cell_type": "code",
      "source": [
        "X = 3\n",
        "\n",
        "if X < 10:\n",
        "  print('X는 10보다 작아!')\n",
        "  if X%2 == 0:\n",
        "      print('X는 짝수야!')\n",
        "  else:\n",
        "      print('X는 홀수야!')\n",
        "else:\n",
        "  print('X는 10보다 커!')\n",
        "  if X%2 == 0:\n",
        "      print('X는 짝수야!')\n",
        "  else:\n",
        "      print('X는 홀수야!')"
      ],
      "metadata": {
        "colab": {
          "base_uri": "https://localhost:8080/"
        },
        "id": "1r2NvGquvY2g",
        "outputId": "40ee43f4-647c-46e0-8932-5f227e3ecb58"
      },
      "execution_count": 7,
      "outputs": [
        {
          "output_type": "stream",
          "name": "stdout",
          "text": [
            "X는 10보다 작아!\n",
            "X는 홀수야!\n"
          ]
        }
      ]
    },
    {
      "cell_type": "code",
      "source": [
        "treeHit = 0\n",
        "\n",
        "while treeHit < 10:\n",
        "    treeHit = treeHit +1\n",
        "    print(\"나무를 %d번 찍었습니다.\" % treeHit)\n",
        "    if treeHit == 10:\n",
        "        print(\"나무 넘어갑니다.\")"
      ],
      "metadata": {
        "colab": {
          "base_uri": "https://localhost:8080/"
        },
        "id": "cKCKY9f6vbVH",
        "outputId": "1b37ace0-dd62-4ed3-c269-87e85b202ec2"
      },
      "execution_count": 8,
      "outputs": [
        {
          "output_type": "stream",
          "name": "stdout",
          "text": [
            "나무를 1번 찍었습니다.\n",
            "나무를 2번 찍었습니다.\n",
            "나무를 3번 찍었습니다.\n",
            "나무를 4번 찍었습니다.\n",
            "나무를 5번 찍었습니다.\n",
            "나무를 6번 찍었습니다.\n",
            "나무를 7번 찍었습니다.\n",
            "나무를 8번 찍었습니다.\n",
            "나무를 9번 찍었습니다.\n",
            "나무를 10번 찍었습니다.\n",
            "나무 넘어갑니다.\n"
          ]
        }
      ]
    },
    {
      "cell_type": "code",
      "source": [
        "coffee = 10\n",
        "money = 300\n",
        "while money:\n",
        "    print(\"돈을 받았으니 커피를 줍니다\")\n",
        "    coffee = coffee -1\n",
        "    #break를 쓰면 여기서 멈춤\n",
        "    print(\"남은 커피의 양은 %d개입니다.\" % coffee)\n",
        "    if coffee == 0:\n",
        "        print(\"커피가 다 떨어졌습니다. 판매를 중지합니다.\")\n",
        "        break"
      ],
      "metadata": {
        "colab": {
          "base_uri": "https://localhost:8080/"
        },
        "id": "B1IyfQRIvdaB",
        "outputId": "570c1dec-d43e-4204-a822-d7ad66097470"
      },
      "execution_count": 9,
      "outputs": [
        {
          "output_type": "stream",
          "name": "stdout",
          "text": [
            "돈을 받았으니 커피를 줍니다\n",
            "남은 커피의 양은 9개입니다.\n",
            "돈을 받았으니 커피를 줍니다\n",
            "남은 커피의 양은 8개입니다.\n",
            "돈을 받았으니 커피를 줍니다\n",
            "남은 커피의 양은 7개입니다.\n",
            "돈을 받았으니 커피를 줍니다\n",
            "남은 커피의 양은 6개입니다.\n",
            "돈을 받았으니 커피를 줍니다\n",
            "남은 커피의 양은 5개입니다.\n",
            "돈을 받았으니 커피를 줍니다\n",
            "남은 커피의 양은 4개입니다.\n",
            "돈을 받았으니 커피를 줍니다\n",
            "남은 커피의 양은 3개입니다.\n",
            "돈을 받았으니 커피를 줍니다\n",
            "남은 커피의 양은 2개입니다.\n",
            "돈을 받았으니 커피를 줍니다\n",
            "남은 커피의 양은 1개입니다.\n",
            "돈을 받았으니 커피를 줍니다\n",
            "남은 커피의 양은 0개입니다.\n",
            "커피가 다 떨어졌습니다. 판매를 중지합니다.\n"
          ]
        }
      ]
    },
    {
      "cell_type": "code",
      "source": [
        "i = 0\n",
        "result1 = 0\n",
        "while i < 100:\n",
        "    i = i + 1\n",
        "    if i % 2 == 0:\n",
        "        print('1번 방법 : {0} {1}'.format(i,result1))\n",
        "        result1 = result1 + i\n",
        "\n",
        "print('1번 방법 : {0}'.format(result1))"
      ],
      "metadata": {
        "colab": {
          "base_uri": "https://localhost:8080/"
        },
        "id": "LxHSAcPmvflP",
        "outputId": "713e5909-1a9e-495d-f826-00ca41022fdc"
      },
      "execution_count": 10,
      "outputs": [
        {
          "output_type": "stream",
          "name": "stdout",
          "text": [
            "1번 방법 : 2 0\n",
            "1번 방법 : 4 2\n",
            "1번 방법 : 6 6\n",
            "1번 방법 : 8 12\n",
            "1번 방법 : 10 20\n",
            "1번 방법 : 12 30\n",
            "1번 방법 : 14 42\n",
            "1번 방법 : 16 56\n",
            "1번 방법 : 18 72\n",
            "1번 방법 : 20 90\n",
            "1번 방법 : 22 110\n",
            "1번 방법 : 24 132\n",
            "1번 방법 : 26 156\n",
            "1번 방법 : 28 182\n",
            "1번 방법 : 30 210\n",
            "1번 방법 : 32 240\n",
            "1번 방법 : 34 272\n",
            "1번 방법 : 36 306\n",
            "1번 방법 : 38 342\n",
            "1번 방법 : 40 380\n",
            "1번 방법 : 42 420\n",
            "1번 방법 : 44 462\n",
            "1번 방법 : 46 506\n",
            "1번 방법 : 48 552\n",
            "1번 방법 : 50 600\n",
            "1번 방법 : 52 650\n",
            "1번 방법 : 54 702\n",
            "1번 방법 : 56 756\n",
            "1번 방법 : 58 812\n",
            "1번 방법 : 60 870\n",
            "1번 방법 : 62 930\n",
            "1번 방법 : 64 992\n",
            "1번 방법 : 66 1056\n",
            "1번 방법 : 68 1122\n",
            "1번 방법 : 70 1190\n",
            "1번 방법 : 72 1260\n",
            "1번 방법 : 74 1332\n",
            "1번 방법 : 76 1406\n",
            "1번 방법 : 78 1482\n",
            "1번 방법 : 80 1560\n",
            "1번 방법 : 82 1640\n",
            "1번 방법 : 84 1722\n",
            "1번 방법 : 86 1806\n",
            "1번 방법 : 88 1892\n",
            "1번 방법 : 90 1980\n",
            "1번 방법 : 92 2070\n",
            "1번 방법 : 94 2162\n",
            "1번 방법 : 96 2256\n",
            "1번 방법 : 98 2352\n",
            "1번 방법 : 100 2450\n",
            "1번 방법 : 2550\n"
          ]
        }
      ]
    },
    {
      "cell_type": "code",
      "source": [
        "j = 0\n",
        "result2 = 0\n",
        "while True:\n",
        "    if j > 100:\n",
        "        break\n",
        "\n",
        "    j = j + 1\n",
        "    if j % 2 == 0:\n",
        "        result2 = result2 + j\n",
        "        print('2번 방법 (break) : {0}'.format(result2))"
      ],
      "metadata": {
        "colab": {
          "base_uri": "https://localhost:8080/"
        },
        "id": "djABMCRqviPh",
        "outputId": "7f977ce1-3efa-4a36-da89-7119fd218ead"
      },
      "execution_count": 11,
      "outputs": [
        {
          "output_type": "stream",
          "name": "stdout",
          "text": [
            "2번 방법 (break) : 2\n",
            "2번 방법 (break) : 6\n",
            "2번 방법 (break) : 12\n",
            "2번 방법 (break) : 20\n",
            "2번 방법 (break) : 30\n",
            "2번 방법 (break) : 42\n",
            "2번 방법 (break) : 56\n",
            "2번 방법 (break) : 72\n",
            "2번 방법 (break) : 90\n",
            "2번 방법 (break) : 110\n",
            "2번 방법 (break) : 132\n",
            "2번 방법 (break) : 156\n",
            "2번 방법 (break) : 182\n",
            "2번 방법 (break) : 210\n",
            "2번 방법 (break) : 240\n",
            "2번 방법 (break) : 272\n",
            "2번 방법 (break) : 306\n",
            "2번 방법 (break) : 342\n",
            "2번 방법 (break) : 380\n",
            "2번 방법 (break) : 420\n",
            "2번 방법 (break) : 462\n",
            "2번 방법 (break) : 506\n",
            "2번 방법 (break) : 552\n",
            "2번 방법 (break) : 600\n",
            "2번 방법 (break) : 650\n",
            "2번 방법 (break) : 702\n",
            "2번 방법 (break) : 756\n",
            "2번 방법 (break) : 812\n",
            "2번 방법 (break) : 870\n",
            "2번 방법 (break) : 930\n",
            "2번 방법 (break) : 992\n",
            "2번 방법 (break) : 1056\n",
            "2번 방법 (break) : 1122\n",
            "2번 방법 (break) : 1190\n",
            "2번 방법 (break) : 1260\n",
            "2번 방법 (break) : 1332\n",
            "2번 방법 (break) : 1406\n",
            "2번 방법 (break) : 1482\n",
            "2번 방법 (break) : 1560\n",
            "2번 방법 (break) : 1640\n",
            "2번 방법 (break) : 1722\n",
            "2번 방법 (break) : 1806\n",
            "2번 방법 (break) : 1892\n",
            "2번 방법 (break) : 1980\n",
            "2번 방법 (break) : 2070\n",
            "2번 방법 (break) : 2162\n",
            "2번 방법 (break) : 2256\n",
            "2번 방법 (break) : 2352\n",
            "2번 방법 (break) : 2450\n",
            "2번 방법 (break) : 2550\n"
          ]
        }
      ]
    }
  ]
}