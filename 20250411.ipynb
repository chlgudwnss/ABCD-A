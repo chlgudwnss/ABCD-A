{
  "nbformat": 4,
  "nbformat_minor": 0,
  "metadata": {
    "colab": {
      "provenance": [],
      "gpuType": "T4",
      "authorship_tag": "ABX9TyMcJyK/J+vpINqp9UY2PyLQ",
      "include_colab_link": true
    },
    "kernelspec": {
      "name": "python3",
      "display_name": "Python 3"
    },
    "language_info": {
      "name": "python"
    },
    "accelerator": "GPU"
  },
  "cells": [
    {
      "cell_type": "markdown",
      "metadata": {
        "id": "view-in-github",
        "colab_type": "text"
      },
      "source": [
        "<a href=\"https://colab.research.google.com/github/chlgudwnss/ABCD-A/blob/20250411/20250411.ipynb\" target=\"_parent\"><img src=\"https://colab.research.google.com/assets/colab-badge.svg\" alt=\"Open In Colab\"/></a>"
      ]
    },
    {
      "cell_type": "code",
      "execution_count": 1,
      "metadata": {
        "colab": {
          "base_uri": "https://localhost:8080/"
        },
        "id": "8X6ruzrYadq0",
        "outputId": "4d577f67-74f1-4314-bb17-6935cc147d16"
      },
      "outputs": [
        {
          "output_type": "stream",
          "name": "stdout",
          "text": [
            "number : 7\n",
            "7\n"
          ]
        }
      ],
      "source": [
        " x = int(input(\"number : \"))\n",
        " print(x)"
      ]
    },
    {
      "cell_type": "code",
      "source": [
        "year = input(\"this year : \")\n",
        "year = eval(year)\n",
        "year = year + 1\n",
        "print(\"Next year:\" , year)"
      ],
      "metadata": {
        "colab": {
          "base_uri": "https://localhost:8080/"
        },
        "id": "_-zQD6EQanf7",
        "outputId": "aa4d3ba3-6d61-4154-dff0-aeebb9785519"
      },
      "execution_count": 2,
      "outputs": [
        {
          "output_type": "stream",
          "name": "stdout",
          "text": [
            "this year : 2025\n",
            "Next year: 2026\n"
          ]
        }
      ]
    },
    {
      "cell_type": "code",
      "source": [
        "i = 0\n",
        "result = 0\n",
        "while i < 5:\n",
        "\tprint(f'{i+1}번째', end = \" \")\n",
        "\ta = input(\"성적 입력 : \")\n",
        "\tresult += int(a)\n",
        "\ti += 1\n",
        "\t2\n",
        "\tprint(f'합 : {result}')\n",
        "\tprint(f'평균 : {result / 5}')\n"
      ],
      "metadata": {
        "colab": {
          "base_uri": "https://localhost:8080/"
        },
        "id": "2UtiXTQoaqHS",
        "outputId": "53b1ed49-848b-4b30-f3fe-6b607a197b34"
      },
      "execution_count": 3,
      "outputs": [
        {
          "output_type": "stream",
          "name": "stdout",
          "text": [
            "1번째 성적 입력 : 80\n",
            "합 : 80\n",
            "평균 : 16.0\n",
            "2번째 성적 입력 : 50\n",
            "합 : 130\n",
            "평균 : 26.0\n",
            "3번째 성적 입력 : 30\n",
            "합 : 160\n",
            "평균 : 32.0\n",
            "4번째 성적 입력 : 90\n",
            "합 : 250\n",
            "평균 : 50.0\n",
            "5번째 성적 입력 : 100\n",
            "합 : 350\n",
            "평균 : 70.0\n"
          ]
        }
      ]
    },
    {
      "cell_type": "code",
      "source": [
        "test_list = ['one', 'two', 'three']\n",
        "for i in test_list:\n",
        "\tprint(i)"
      ],
      "metadata": {
        "colab": {
          "base_uri": "https://localhost:8080/"
        },
        "id": "ceJ1DiF4aqEk",
        "outputId": "dfe46cf4-cf64-4105-f6fe-d0b71aa2f2c0"
      },
      "execution_count": 4,
      "outputs": [
        {
          "output_type": "stream",
          "name": "stdout",
          "text": [
            "one\n",
            "two\n",
            "three\n"
          ]
        }
      ]
    },
    {
      "cell_type": "code",
      "source": [
        "for i in range(1, 10):\n",
        "\tprint(i)\n"
      ],
      "metadata": {
        "colab": {
          "base_uri": "https://localhost:8080/"
        },
        "id": "6Oq0NfjfaqCD",
        "outputId": "6a99cf3d-62ac-432b-f28b-e34a221feac1"
      },
      "execution_count": 5,
      "outputs": [
        {
          "output_type": "stream",
          "name": "stdout",
          "text": [
            "1\n",
            "2\n",
            "3\n",
            "4\n",
            "5\n",
            "6\n",
            "7\n",
            "8\n",
            "9\n"
          ]
        }
      ]
    },
    {
      "cell_type": "code",
      "source": [
        "result = 0\n",
        "for a in range(1, 101): #1 ~ 100\n",
        "\n",
        "\tresult = result + a\n",
        "\tprint(f'{a} {result}')\n",
        "\n",
        "print(result)"
      ],
      "metadata": {
        "colab": {
          "base_uri": "https://localhost:8080/"
        },
        "id": "AlQDKqhRap_T",
        "outputId": "ce95eb30-3810-49fb-ab33-c192d7fc92c9"
      },
      "execution_count": 6,
      "outputs": [
        {
          "output_type": "stream",
          "name": "stdout",
          "text": [
            "1 1\n",
            "2 3\n",
            "3 6\n",
            "4 10\n",
            "5 15\n",
            "6 21\n",
            "7 28\n",
            "8 36\n",
            "9 45\n",
            "10 55\n",
            "11 66\n",
            "12 78\n",
            "13 91\n",
            "14 105\n",
            "15 120\n",
            "16 136\n",
            "17 153\n",
            "18 171\n",
            "19 190\n",
            "20 210\n",
            "21 231\n",
            "22 253\n",
            "23 276\n",
            "24 300\n",
            "25 325\n",
            "26 351\n",
            "27 378\n",
            "28 406\n",
            "29 435\n",
            "30 465\n",
            "31 496\n",
            "32 528\n",
            "33 561\n",
            "34 595\n",
            "35 630\n",
            "36 666\n",
            "37 703\n",
            "38 741\n",
            "39 780\n",
            "40 820\n",
            "41 861\n",
            "42 903\n",
            "43 946\n",
            "44 990\n",
            "45 1035\n",
            "46 1081\n",
            "47 1128\n",
            "48 1176\n",
            "49 1225\n",
            "50 1275\n",
            "51 1326\n",
            "52 1378\n",
            "53 1431\n",
            "54 1485\n",
            "55 1540\n",
            "56 1596\n",
            "57 1653\n",
            "58 1711\n",
            "59 1770\n",
            "60 1830\n",
            "61 1891\n",
            "62 1953\n",
            "63 2016\n",
            "64 2080\n",
            "65 2145\n",
            "66 2211\n",
            "67 2278\n",
            "68 2346\n",
            "69 2415\n",
            "70 2485\n",
            "71 2556\n",
            "72 2628\n",
            "73 2701\n",
            "74 2775\n",
            "75 2850\n",
            "76 2926\n",
            "77 3003\n",
            "78 3081\n",
            "79 3160\n",
            "80 3240\n",
            "81 3321\n",
            "82 3403\n",
            "83 3486\n",
            "84 3570\n",
            "85 3655\n",
            "86 3741\n",
            "87 3828\n",
            "88 3916\n",
            "89 4005\n",
            "90 4095\n",
            "91 4186\n",
            "92 4278\n",
            "93 4371\n",
            "94 4465\n",
            "95 4560\n",
            "96 4656\n",
            "97 4753\n",
            "98 4851\n",
            "99 4950\n",
            "100 5050\n",
            "5050\n"
          ]
        }
      ]
    },
    {
      "cell_type": "code",
      "source": [
        "result = 0\n",
        "for a in range(1, 101):\n",
        "\tresult = result + a\n",
        "\tprint(f'{a} : sum = {result}')\n",
        "\tif result > 100:\n",
        "\t\t\tbreak\n",
        "\n",
        "\tprint(result)"
      ],
      "metadata": {
        "colab": {
          "base_uri": "https://localhost:8080/"
        },
        "id": "TZX84wGWap87",
        "outputId": "d17985b9-226e-4b23-95a5-4e574ade6625"
      },
      "execution_count": 7,
      "outputs": [
        {
          "output_type": "stream",
          "name": "stdout",
          "text": [
            "1 : sum = 1\n",
            "1\n",
            "2 : sum = 3\n",
            "3\n",
            "3 : sum = 6\n",
            "6\n",
            "4 : sum = 10\n",
            "10\n",
            "5 : sum = 15\n",
            "15\n",
            "6 : sum = 21\n",
            "21\n",
            "7 : sum = 28\n",
            "28\n",
            "8 : sum = 36\n",
            "36\n",
            "9 : sum = 45\n",
            "45\n",
            "10 : sum = 55\n",
            "55\n",
            "11 : sum = 66\n",
            "66\n",
            "12 : sum = 78\n",
            "78\n",
            "13 : sum = 91\n",
            "91\n",
            "14 : sum = 105\n"
          ]
        }
      ]
    },
    {
      "cell_type": "code",
      "source": [
        "index = 0\n",
        "s = \"BlockDMask\"\n",
        "for a in s:\n",
        "\tprint(a, end=' ')\n",
        "\tif a == 'k':\n",
        "\t\tbreak\n",
        "\n",
        "\tindex = index + 1\n",
        "\n",
        "print(index)"
      ],
      "metadata": {
        "colab": {
          "base_uri": "https://localhost:8080/"
        },
        "id": "y899R1MUap6j",
        "outputId": "d5feade9-b94b-44f5-f4c4-bdc17fc596ef"
      },
      "execution_count": 8,
      "outputs": [
        {
          "output_type": "stream",
          "name": "stdout",
          "text": [
            "B l o c k 4\n"
          ]
        }
      ]
    },
    {
      "cell_type": "code",
      "source": [
        "student = [180, 170, 164, 199, 182, 172, 177]\n",
        "for a in student:\n",
        "  if a > 170:\n",
        "\n",
        "    continue\n",
        "\n",
        "  print(a)"
      ],
      "metadata": {
        "colab": {
          "base_uri": "https://localhost:8080/"
        },
        "id": "0Zm2d_V4ap0T",
        "outputId": "dee96e84-640d-4808-a581-8052e4083e93"
      },
      "execution_count": 9,
      "outputs": [
        {
          "output_type": "stream",
          "name": "stdout",
          "text": [
            "170\n",
            "164\n"
          ]
        }
      ]
    },
    {
      "cell_type": "code",
      "source": [
        "result = 0\n",
        "for a in range(1, 101):\n",
        "\tif a % 2 == 0:\n",
        "\n",
        "\t\tcontinue\n",
        "\tresult = result + a\n",
        "\n",
        "print(result)"
      ],
      "metadata": {
        "colab": {
          "base_uri": "https://localhost:8080/"
        },
        "id": "gn_TQja4apuD",
        "outputId": "59dc7fe5-6fbd-4a4e-eb4c-0f1764812e92"
      },
      "execution_count": 10,
      "outputs": [
        {
          "output_type": "stream",
          "name": "stdout",
          "text": [
            "2500\n"
          ]
        }
      ]
    },
    {
      "cell_type": "code",
      "source": [
        "l = ['Alice' , 'Bob' , 'Charlie']\n",
        "\n",
        "for name in l:\n",
        "    if name == 'Bob':\n",
        "        print('!!BREAK!!')\n",
        "        break\n",
        "    print(name)\n",
        "else:\n",
        "    print('!!FINISH!!')\n"
      ],
      "metadata": {
        "colab": {
          "base_uri": "https://localhost:8080/"
        },
        "id": "jOxU4WJ6aphz",
        "outputId": "1e9c190d-fba8-4faa-f5f4-f7b9be524ff2"
      },
      "execution_count": 11,
      "outputs": [
        {
          "output_type": "stream",
          "name": "stdout",
          "text": [
            "Alice\n",
            "!!BREAK!!\n"
          ]
        }
      ]
    },
    {
      "cell_type": "code",
      "source": [
        "sr = ['father', 'mother', 'brother']\n",
        "cnt = 0\n",
        "for s in sr:\n",
        "        for c in s:\n",
        "            if c == 'r':\n",
        "                cnt += 1\n",
        "print(cnt)"
      ],
      "metadata": {
        "colab": {
          "base_uri": "https://localhost:8080/"
        },
        "id": "Je5LaCTba60q",
        "outputId": "2eecb5c3-bd96-46fd-fa44-7cc428d99b82"
      },
      "execution_count": 12,
      "outputs": [
        {
          "output_type": "stream",
          "name": "stdout",
          "text": [
            "4\n"
          ]
        }
      ]
    },
    {
      "cell_type": "code",
      "source": [
        "a = []\n",
        "\n",
        "for i in range(10):\n",
        "    a.append(0)\n",
        "\n",
        "print(a)"
      ],
      "metadata": {
        "colab": {
          "base_uri": "https://localhost:8080/"
        },
        "id": "gvgxxrEXa6uz",
        "outputId": "b1f3d12e-12be-4006-a667-0246bff33989"
      },
      "execution_count": 13,
      "outputs": [
        {
          "output_type": "stream",
          "name": "stdout",
          "text": [
            "[0, 0, 0, 0, 0, 0, 0, 0, 0, 0]\n"
          ]
        }
      ]
    },
    {
      "cell_type": "code",
      "source": [
        "a = []\n",
        "\n",
        "for i in range(3):\n",
        "    line = []\n",
        "    for j in range(2):\n",
        "        line.append(0)\n",
        "    a.append(line)\n",
        "\n",
        "print(a)"
      ],
      "metadata": {
        "colab": {
          "base_uri": "https://localhost:8080/"
        },
        "id": "YEGsjz2Da6St",
        "outputId": "4147b19b-26ba-446a-9899-8c9282ba4259"
      },
      "execution_count": 14,
      "outputs": [
        {
          "output_type": "stream",
          "name": "stdout",
          "text": [
            "[[0, 0], [0, 0], [0, 0]]\n"
          ]
        }
      ]
    },
    {
      "cell_type": "code",
      "source": [
        "l = ['Alice', 'Bob', 'Charlie']\n",
        "\n",
        "for name in l:\n",
        "    print(name)\n",
        "\n",
        "for i, name in enumerate(l):\n",
        "    print(i, name)"
      ],
      "metadata": {
        "colab": {
          "base_uri": "https://localhost:8080/"
        },
        "id": "tN7ydyD1bBly",
        "outputId": "635dcaf1-74db-4f40-f21c-bc4e65536123"
      },
      "execution_count": 15,
      "outputs": [
        {
          "output_type": "stream",
          "name": "stdout",
          "text": [
            "Alice\n",
            "Bob\n",
            "Charlie\n",
            "0 Alice\n",
            "1 Bob\n",
            "2 Charlie\n"
          ]
        }
      ]
    },
    {
      "cell_type": "code",
      "source": [
        "for i, name in enumerate(l, 1):\n",
        "    print(i, name)\n",
        "\n",
        "for i, name in enumerate(l, 42):\n",
        "    print(i, name)\n"
      ],
      "metadata": {
        "colab": {
          "base_uri": "https://localhost:8080/"
        },
        "id": "nAXVhB3FbBaj",
        "outputId": "aedc0e34-31b5-48c1-ef6a-3fcce6df9a81"
      },
      "execution_count": 16,
      "outputs": [
        {
          "output_type": "stream",
          "name": "stdout",
          "text": [
            "1 Alice\n",
            "2 Bob\n",
            "3 Charlie\n",
            "42 Alice\n",
            "43 Bob\n",
            "44 Charlie\n"
          ]
        }
      ]
    },
    {
      "cell_type": "code",
      "source": [
        "print(list(range(0, 10, 3)))"
      ],
      "metadata": {
        "colab": {
          "base_uri": "https://localhost:8080/"
        },
        "id": "wRt0hP32bFoq",
        "outputId": "221199f2-74e2-46a3-9f80-17b94278cc9d"
      },
      "execution_count": 17,
      "outputs": [
        {
          "output_type": "stream",
          "name": "stdout",
          "text": [
            "[0, 3, 6, 9]\n"
          ]
        }
      ]
    },
    {
      "cell_type": "code",
      "source": [
        "print(list(range(0, 10, -3)))"
      ],
      "metadata": {
        "colab": {
          "base_uri": "https://localhost:8080/"
        },
        "id": "pmQDtOPYbHPS",
        "outputId": "f94acd9c-9da5-47e1-df4d-5f3bffcbccf1"
      },
      "execution_count": 18,
      "outputs": [
        {
          "output_type": "stream",
          "name": "stdout",
          "text": [
            "[]\n"
          ]
        }
      ]
    },
    {
      "cell_type": "code",
      "source": [
        "for i in range(0, 10, -3):\n",
        "    print"
      ],
      "metadata": {
        "id": "p4AIe79RbHFS"
      },
      "execution_count": 26,
      "outputs": []
    }
  ]
}